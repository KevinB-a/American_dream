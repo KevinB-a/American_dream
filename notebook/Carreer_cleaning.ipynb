{
 "cells": [
  {
   "cell_type": "markdown",
   "id": "conceptual-attempt",
   "metadata": {},
   "source": [
    "# Nettoyage des données"
   ]
  },
  {
   "cell_type": "markdown",
   "id": "dirty-remainder",
   "metadata": {},
   "source": [
    "## 0. Set up"
   ]
  },
  {
   "cell_type": "markdown",
   "id": "matched-confidentiality",
   "metadata": {},
   "source": [
    "### Mise en place de l'environnement"
   ]
  },
  {
   "cell_type": "code",
   "execution_count": 25,
   "id": "prospective-exhibition",
   "metadata": {},
   "outputs": [],
   "source": [
    "#Importation des Modules nécessaires\n",
    "import pandas as pd\n",
    "import sqlalchemy\n",
    "import mysql.connector\n",
    "\n",
    "#Pour que python reconnaisse un dossier comme un module il faut ajouter en son sein un fichier __init__.py \n",
    "#et également l'ajouter au PATH\n",
    "\n",
    "import sys\n",
    "sys.path.insert(0, \"/home/apprenant/simplon_project/American_dream\")\n",
    "\n",
    "\n",
    "#On peut ensuite importer le dossier comme un module\n",
    "\n",
    "from src.d00_utils.mysql_utils import mysql_connect, save_to_mysql\n",
    "connect = mysql_connect()"
   ]
  },
  {
   "cell_type": "markdown",
   "id": "paperback-harmony",
   "metadata": {},
   "source": [
    "### Importation des données depuis my sql"
   ]
  },
  {
   "cell_type": "code",
   "execution_count": 26,
   "id": "exclusive-accordance",
   "metadata": {},
   "outputs": [],
   "source": [
    "df1 = pd.read_sql(\"survey_1\",con=connect)\n",
    "dfk = pd.read_sql(\"survey_k\",con=connect)"
   ]
  },
  {
   "cell_type": "markdown",
   "id": "bigger-citizenship",
   "metadata": {},
   "source": [
    "## 1. Selection des colonnes"
   ]
  },
  {
   "cell_type": "markdown",
   "id": "blessed-pantyhose",
   "metadata": {},
   "source": [
    "J'affiche un échantillno de mes données pour analyser la pertinence des différentes colonnes"
   ]
  },
  {
   "cell_type": "code",
   "execution_count": 27,
   "id": "higher-revision",
   "metadata": {
    "scrolled": true
   },
   "outputs": [
    {
     "output_type": "stream",
     "name": "stdout",
     "text": [
      "   index  Survey Year           Timestamp  SalaryUSD        Country  \\\n0      0         2020 2020-01-04 18:50:34   115000.0  United States   \n1      1         2020 2020-01-04 10:43:02   100000.0  United States   \n2      2         2020 2020-01-04 09:51:46   100000.0          Spain   \n3      3         2020 2020-01-04 01:08:54    70000.0  United States   \n4      4         2020 2020-01-03 15:28:54   110000.0  United States   \n\n  PostalCode       PrimaryDatabase  YearsWithThisDatabase  \\\n0         03  Microsoft SQL Server                     15   \n1       None                 Other                      6   \n2      28046  Microsoft SQL Server                      2   \n3      94133  Microsoft SQL Server                      3   \n4      95354                Oracle                     30   \n\n                                      OtherDatabases    EmploymentStatus  ...  \\\n0  Microsoft SQL Server, MongoDB, Azure SQL DB (a...  Full time employee  ...   \n1                                      MySQL/MariaDB  Full time employee  ...   \n2                                      MySQL/MariaDB  Full time employee  ...   \n3                                   Microsoft Access  Full time employee  ...   \n4  Microsoft SQL Server, Oracle, MySQL/MariaDB, P...  Full time employee  ...   \n\n  NewestVersionInProduction OldestVersionInProduction  \\\n0           SQL Server 2019           SQL Server 2016   \n1                  informix                  informix   \n2           SQL Server 2017           SQL Server 2017   \n3           SQL Server 2016           SQL Server 2012   \n4           SQL Server 2016         SQL Server 2008R2   \n\n   PopulationOfLargestCityWithin20Miles  EmploymentSector  \\\n0                  20K-99K (large town)  Private business   \n1                      1M+ (metropolis)  Private business   \n2                      1M+ (metropolis)  Private business   \n3                      1M+ (metropolis)  Private business   \n4                      100K-299K (city)        Non-profit   \n\n  LookingForAnotherJob                     CareerPlansThisYear  Gender  \\\n0            Not Asked  Stay with the same employer, same role    Male   \n1            Not Asked                       Prefer not to say    Male   \n2            Not Asked  Stay with the same employer, same role    Male   \n3            Not Asked         Change both employers and roles    Male   \n4            Not Asked  Stay with the same employer, same role    Male   \n\n  OtherJobDuties KindsOfTasksPerformed Counter  \n0      Not Asked             Not Asked       1  \n1      Not Asked             Not Asked       1  \n2      Not Asked             Not Asked       1  \n3      Not Asked             Not Asked       1  \n4      Not Asked             Not Asked       1  \n\n[5 rows x 32 columns]\nIndex(['index', 'Survey Year', 'Timestamp', 'SalaryUSD', 'Country',\n       'PostalCode', 'PrimaryDatabase', 'YearsWithThisDatabase',\n       'OtherDatabases', 'EmploymentStatus', 'JobTitle', 'ManageStaff',\n       'YearsWithThisTypeOfJob', 'HowManyCompanies', 'OtherPeopleOnYourTeam',\n       'CompanyEmployeesOverall', 'DatabaseServers', 'Education',\n       'EducationIsComputerRelated', 'Certifications', 'HoursWorkedPerWeek',\n       'TelecommuteDaysPerWeek', 'NewestVersionInProduction',\n       'OldestVersionInProduction', 'PopulationOfLargestCityWithin20Miles',\n       'EmploymentSector', 'LookingForAnotherJob', 'CareerPlansThisYear',\n       'Gender', 'OtherJobDuties', 'KindsOfTasksPerformed', 'Counter'],\n      dtype='object')\n"
     ]
    }
   ],
   "source": [
    "print(df1.head())\n",
    "print(df1.columns)"
   ]
  },
  {
   "cell_type": "markdown",
   "id": "serious-death",
   "metadata": {},
   "source": [
    "Je choisis uniquement les colonnes qui pourraient m'être utiles pour mon étude"
   ]
  },
  {
   "cell_type": "code",
   "execution_count": 28,
   "id": "opening-grounds",
   "metadata": {},
   "outputs": [],
   "source": [
    "df1 = df1[['index','SalaryUSD','Country','PostalCode','EmploymentStatus','JobTitle','ManageStaff','YearsWithThisTypeOfJob',\n",
    "          'HowManyCompanies','OtherPeopleOnYourTeam', 'CompanyEmployeesOverall',\n",
    "          'PopulationOfLargestCityWithin20Miles','EmploymentSector', 'LookingForAnotherJob', 'CareerPlansThisYear',\n",
    "          'Gender', 'OtherJobDuties']]"
   ]
  },
  {
   "cell_type": "markdown",
   "id": "available-convention",
   "metadata": {},
   "source": [
    "Je fais la même chose pour la seconde table"
   ]
  },
  {
   "cell_type": "markdown",
   "id": "descending-shannon",
   "metadata": {},
   "source": [
    "## 2. Valeurs manquantes"
   ]
  },
  {
   "cell_type": "markdown",
   "id": "hearing-nerve",
   "metadata": {},
   "source": [
    "### Recherche des valeurs manquantes "
   ]
  },
  {
   "cell_type": "code",
   "execution_count": 29,
   "id": "impaired-desktop",
   "metadata": {
    "scrolled": true
   },
   "outputs": [
    {
     "output_type": "stream",
     "name": "stdout",
     "text": [
      "index                                      0\nSalaryUSD                                  0\nCountry                                    0\nPostalCode                              1390\nEmploymentStatus                           0\nJobTitle                                   0\nManageStaff                                0\nYearsWithThisTypeOfJob                     0\nHowManyCompanies                           0\nOtherPeopleOnYourTeam                      0\nCompanyEmployeesOverall                    0\nPopulationOfLargestCityWithin20Miles       0\nEmploymentSector                           0\nLookingForAnotherJob                       0\nCareerPlansThisYear                        0\nGender                                     0\nOtherJobDuties                           620\ndtype: int64\n(8627, 17)\n"
     ]
    }
   ],
   "source": [
    "print(df1.isnull().sum()) \n",
    "print(df1.shape)"
   ]
  },
  {
   "cell_type": "markdown",
   "id": "exclusive-newsletter",
   "metadata": {},
   "source": [
    "Il me manque 1390 veleurs pour PostalCode et 620 pour OtherJobDUties sur un total de 8627 lignes.\n",
    "Ces deux colonnes ne sont pas au centre de mon études donc ça se vaut pas le cout de supprimer toute la ligne pour elles"
   ]
  },
  {
   "cell_type": "markdown",
   "id": "activated-cardiff",
   "metadata": {},
   "source": [
    "### traitement de Postal code"
   ]
  },
  {
   "cell_type": "markdown",
   "id": "figured-forty",
   "metadata": {},
   "source": [
    "Cela ne ferait pas de sens de remplacer le code postal par un code postal arbitraire"
   ]
  },
  {
   "cell_type": "markdown",
   "id": "wrong-limit",
   "metadata": {},
   "source": [
    "### Traitement de OtherJobDuties"
   ]
  },
  {
   "cell_type": "code",
   "execution_count": 30,
   "id": "norman-collector",
   "metadata": {
    "tags": [
     "outputPrepend"
    ]
   },
   "outputs": [
    {
     "output_type": "stream",
     "name": "stdout",
     "text": [
      " (Production Focus - build & troubleshoot servers, HA/DR), DBA (General - splits time evenly between writing & tuning queries AND building & troubleshooting servers), Engineer, Manager'\n 'Architect, DBA (Production Focus - build & troubleshoot servers, HA/DR), DBA (General - splits time evenly between writing & tuning queries AND building & troubleshooting servers), Developer: App code (C#, JS, etc)'\n 'Developer: App code (C#, JS, etc), Developer: Business Intelligence (SSRS, PowerBI, etc), Developer: T-SQL, Engineer, Manager'\n 'Analyst, Architect, DBA (Development Focus - tunes queries, indexes, does deployments), DBA (Production Focus - build & troubleshoot servers, HA/DR), Developer: App code (C#, JS, etc), Developer: T-SQL, Manager'\n 'Analyst, Architect, DBA (Development Focus - tunes queries, indexes, does deployments), DBA (General - splits time evenly between writing & tuning queries AND building & troubleshooting servers), Developer: App code (C#, JS, etc), Developer: T-SQL, Engineer, Manager'\n 'Analyst, Architect, DBA (Development Focus - tunes queries, indexes, does deployments), Developer: Business Intelligence (SSRS, PowerBI, etc), Developer: T-SQL, Engineer, Manager'\n 'Analyst, DBA (Development Focus - tunes queries, indexes, does deployments), Developer: App code (C#, JS, etc), Developer: T-SQL, Manager'\n 'Data Scientist, DBA (General - splits time evenly between writing & tuning queries AND building & troubleshooting servers), Developer: Business Intelligence (SSRS, PowerBI, etc)'\n 'Architect, Data Scientist, DBA (Development Focus - tunes queries, indexes, does deployments), Developer: App code (C#, JS, etc), Developer: T-SQL, Engineer, Manager'\n 'DBA (Production Focus - build & troubleshoot servers, HA/DR), Developer: App code (C#, JS, etc), Developer: Business Intelligence (SSRS, PowerBI, etc), Developer: T-SQL'\n 'Architect, Data Scientist, Developer: App code (C#, JS, etc), Developer: Business Intelligence (SSRS, PowerBI, etc), Developer: T-SQL'\n 'DBA (Development Focus - tunes queries, indexes, does deployments), DBA (Production Focus - build & troubleshoot servers, HA/DR), Developer: App code (C#, JS, etc), Developer: Business Intelligence (SSRS, PowerBI, etc)'\n 'DBA (Production Focus - build & troubleshoot servers, HA/DR), DBA (General - splits time evenly between writing & tuning queries AND building & troubleshooting servers), Developer: App code (C#, JS, etc), Developer: T-SQL'\n 'Architect, DBA (Production Focus - build & troubleshoot servers, HA/DR), Developer: T-SQL'\n 'DBA (Production Focus - build & troubleshoot servers, HA/DR), DBA (General - splits time evenly between writing & tuning queries AND building & troubleshooting servers), Developer: App code (C#, JS, etc), Developer: Business Intelligence (SSRS, PowerBI, etc), Developer: T-SQL, Manager'\n 'Analyst, Data Scientist, DBA (Development Focus - tunes queries, indexes, does deployments), Developer: App code (C#, JS, etc), Developer: T-SQL'\n 'Data Scientist, DBA (General - splits time evenly between writing & tuning queries AND building & troubleshooting servers), Developer: T-SQL'\n 'Analyst, Architect, Data Scientist, DBA (Development Focus - tunes queries, indexes, does deployments), DBA (Production Focus - build & troubleshoot servers, HA/DR), DBA (General - splits time evenly between writing & tuning queries AND building & troubleshooting servers), Developer: App code (C#, JS, etc), Developer: Business Intelligence (SSRS, PowerBI, etc), Engineer, Manager'\n 'Architect, DBA (Production Focus - build & troubleshoot servers, HA/DR), Developer: App code (C#, JS, etc), Developer: Business Intelligence (SSRS, PowerBI, etc), Developer: T-SQL'\n 'Analyst, Data Scientist, Developer: Business Intelligence (SSRS, PowerBI, etc), Engineer'\n 'Analyst, Architect, DBA (Development Focus - tunes queries, indexes, does deployments), DBA (Production Focus - build & troubleshoot servers, HA/DR), DBA (General - splits time evenly between writing & tuning queries AND building & troubleshooting servers), Developer: Business Intelligence (SSRS, PowerBI, etc), Developer: T-SQL, Engineer'\n 'Analyst, Architect, DBA (Development Focus - tunes queries, indexes, does deployments), DBA (Production Focus - build & troubleshoot servers, HA/DR), DBA (General - splits time evenly between writing & tuning queries AND building & troubleshooting servers), Developer: App code (C#, JS, etc), Developer: T-SQL'\n 'DBA (Development Focus - tunes queries, indexes, does deployments), DBA (Production Focus - build & troubleshoot servers, HA/DR), DBA (General - splits time evenly between writing & tuning queries AND building & troubleshooting servers), Developer: T-SQL, Engineer, Manager'\n 'Analyst, Architect, Data Scientist, DBA (Development Focus - tunes queries, indexes, does deployments), Developer: Business Intelligence (SSRS, PowerBI, etc), Engineer, Manager'\n 'Analyst, Architect, DBA (General - splits time evenly between writing & tuning queries AND building & troubleshooting servers), Developer: App code (C#, JS, etc), Developer: Business Intelligence (SSRS, PowerBI, etc), Developer: T-SQL, Engineer, Manager'\n 'DBA (Production Focus - build & troubleshoot servers, HA/DR), DBA (General - splits time evenly between writing & tuning queries AND building & troubleshooting servers), Developer: App code (C#, JS, etc)'\n 'Analyst, Architect, Data Scientist, DBA (Development Focus - tunes queries, indexes, does deployments), Developer: App code (C#, JS, etc), Developer: Business Intelligence (SSRS, PowerBI, etc), Developer: T-SQL'\n 'Analyst, DBA (Development Focus - tunes queries, indexes, does deployments), Engineer, Manager'\n 'Developer: App code (C#, JS, etc), Developer: Business Intelligence (SSRS, PowerBI, etc), Engineer'\n 'DBA (Development Focus - tunes queries, indexes, does deployments), DBA (Production Focus - build & troubleshoot servers, HA/DR), DBA (General - splits time evenly between writing & tuning queries AND building & troubleshooting servers), Developer: T-SQL, Manager'\n 'Analyst, Architect, DBA (Development Focus - tunes queries, indexes, does deployments), DBA (General - splits time evenly between writing & tuning queries AND building & troubleshooting servers), Developer: App code (C#, JS, etc), Manager'\n 'Analyst, Architect, Data Scientist, Developer: App code (C#, JS, etc), Developer: Business Intelligence (SSRS, PowerBI, etc), Developer: T-SQL, Manager'\n 'Architect, DBA (General - splits time evenly between writing & tuning queries AND building & troubleshooting servers), Developer: T-SQL, Engineer, Manager'\n 'Architect, Data Scientist, Developer: App code (C#, JS, etc), Developer: T-SQL'\n 'Architect, Data Scientist, DBA (General - splits time evenly between writing & tuning queries AND building & troubleshooting servers), Developer: T-SQL'\n 'Analyst, DBA (Development Focus - tunes queries, indexes, does deployments), DBA (Production Focus - build & troubleshoot servers, HA/DR), Engineer, Manager'\n 'DBA (Development Focus - tunes queries, indexes, does deployments), DBA (General - splits time evenly between writing & tuning queries AND building & troubleshooting servers), Engineer'\n 'Architect, Data Scientist, Developer: Business Intelligence (SSRS, PowerBI, etc), Developer: T-SQL'\n 'Architect, Developer: App code (C#, JS, etc), Engineer'\n 'Analyst, Architect, Developer: Business Intelligence (SSRS, PowerBI, etc), Manager'\n 'Analyst, Data Scientist, DBA (Development Focus - tunes queries, indexes, does deployments), DBA (Production Focus - build & troubleshoot servers, HA/DR), DBA (General - splits time evenly between writing & tuning queries AND building & troubleshooting servers), Developer: Business Intelligence (SSRS, PowerBI, etc), Developer: T-SQL'\n 'Analyst, DBA (Production Focus - build & troubleshoot servers, HA/DR), Developer: T-SQL'\n 'Analyst, DBA (General - splits time evenly between writing & tuning queries AND building & troubleshooting servers), Manager'\n 'Analyst, DBA (Development Focus - tunes queries, indexes, does deployments), DBA (General - splits time evenly between writing & tuning queries AND building & troubleshooting servers), Developer: App code (C#, JS, etc), Developer: Business Intelligence (SSRS, PowerBI, etc), Developer: T-SQL'\n 'Analyst, DBA (Development Focus - tunes queries, indexes, does deployments), Developer: App code (C#, JS, etc), Engineer'\n 'Data Scientist, DBA (Development Focus - tunes queries, indexes, does deployments), DBA (General - splits time evenly between writing & tuning queries AND building & troubleshooting servers), Developer: App code (C#, JS, etc), Developer: Business Intelligence (SSRS, PowerBI, etc), Developer: T-SQL'\n 'DBA (Development Focus - tunes queries, indexes, does deployments), DBA (Production Focus - build & troubleshoot servers, HA/DR), Developer: T-SQL, Manager'\n 'DBA (General - splits time evenly between writing & tuning queries AND building & troubleshooting servers), Developer: Business Intelligence (SSRS, PowerBI, etc), Developer: T-SQL, Engineer'\n 'Analyst, Data Scientist, DBA (Production Focus - build & troubleshoot servers, HA/DR), Developer: T-SQL'\n 'Analyst, Architect, Developer: App code (C#, JS, etc), Developer: Business Intelligence (SSRS, PowerBI, etc)'\n 'Architect, Data Scientist, DBA (Development Focus - tunes queries, indexes, does deployments), DBA (Production Focus - build & troubleshoot servers, HA/DR), Developer: App code (C#, JS, etc), Developer: Business Intelligence (SSRS, PowerBI, etc), Developer: T-SQL, Engineer, Manager'\n 'Architect, DBA (Development Focus - tunes queries, indexes, does deployments), DBA (General - splits time evenly between writing & tuning queries AND building & troubleshooting servers), Developer: Business Intelligence (SSRS, PowerBI, etc)'\n 'Analyst, Architect, DBA (Development Focus - tunes queries, indexes, does deployments), Developer: T-SQL, Engineer'\n 'Analyst, Architect, Developer: Business Intelligence (SSRS, PowerBI, etc), Developer: T-SQL, Manager'\n 'Architect, DBA (Development Focus - tunes queries, indexes, does deployments), DBA (Production Focus - build & troubleshoot servers, HA/DR), Developer: App code (C#, JS, etc), Developer: T-SQL, Engineer, Manager'\n 'DBA (Production Focus - build & troubleshoot servers, HA/DR), DBA (General - splits time evenly between writing & tuning queries AND building & troubleshooting servers), Engineer'\n 'Analyst, DBA (Development Focus - tunes queries, indexes, does deployments), DBA (Production Focus - build & troubleshoot servers, HA/DR), Developer: App code (C#, JS, etc), Developer: T-SQL, Engineer'\n 'Analyst, Architect, DBA (Development Focus - tunes queries, indexes, does deployments), DBA (Production Focus - build & troubleshoot servers, HA/DR), Developer: T-SQL, Manager'\n 'Architect, DBA (Development Focus - tunes queries, indexes, does deployments), DBA (Production Focus - build & troubleshoot servers, HA/DR), DBA (General - splits time evenly between writing & tuning queries AND building & troubleshooting servers), Developer: App code (C#, JS, etc), Developer: Business Intelligence (SSRS, PowerBI, etc), Developer: T-SQL'\n 'Analyst, DBA (Development Focus - tunes queries, indexes, does deployments), DBA (General - splits time evenly between writing & tuning queries AND building & troubleshooting servers)'\n 'Architect, Developer: Business Intelligence (SSRS, PowerBI, etc), Manager'\n 'Analyst, Architect, Developer: App code (C#, JS, etc), Engineer, Manager'\n 'Architect, Data Scientist, DBA (Development Focus - tunes queries, indexes, does deployments), Developer: App code (C#, JS, etc), Developer: Business Intelligence (SSRS, PowerBI, etc), Developer: T-SQL'\n 'Analyst, Architect, DBA (Development Focus - tunes queries, indexes, does deployments), DBA (Production Focus - build & troubleshoot servers, HA/DR), Developer: App code (C#, JS, etc), Developer: T-SQL, Engineer'\n 'Analyst, Architect, Data Scientist, DBA (General - splits time evenly between writing & tuning queries AND building & troubleshooting servers)'\n 'Analyst, Architect, Data Scientist, DBA (Development Focus - tunes queries, indexes, does deployments), DBA (General - splits time evenly between writing & tuning queries AND building & troubleshooting servers)'\n 'Analyst, Developer: Business Intelligence (SSRS, PowerBI, etc), Developer: T-SQL, Engineer'\n 'Architect, DBA (Development Focus - tunes queries, indexes, does deployments), DBA (Production Focus - build & troubleshoot servers, HA/DR), DBA (General - splits time evenly between writing & tuning queries AND building & troubleshooting servers), Developer: App code (C#, JS, etc), Developer: T-SQL'\n 'Analyst, Developer: T-SQL, Manager'\n 'Analyst, Data Scientist, Developer: App code (C#, JS, etc)'\n 'Data Scientist, DBA (Production Focus - build & troubleshoot servers, HA/DR), Developer: App code (C#, JS, etc), Developer: Business Intelligence (SSRS, PowerBI, etc), Engineer, Manager'\n 'Data Scientist, DBA (Production Focus - build & troubleshoot servers, HA/DR)'\n 'Data Scientist, Developer: Business Intelligence (SSRS, PowerBI, etc), Developer: T-SQL, Manager'\n 'Architect, Data Scientist, DBA (Development Focus - tunes queries, indexes, does deployments), DBA (Production Focus - build & troubleshoot servers, HA/DR), DBA (General - splits time evenly between writing & tuning queries AND building & troubleshooting servers), Developer: Business Intelligence (SSRS, PowerBI, etc), Developer: T-SQL'\n 'Architect, Developer: App code (C#, JS, etc), Developer: Business Intelligence (SSRS, PowerBI, etc)'\n 'Analyst, DBA (Development Focus - tunes queries, indexes, does deployments), Developer: App code (C#, JS, etc), Developer: Business Intelligence (SSRS, PowerBI, etc), Engineer'\n 'Data Scientist, Developer: Business Intelligence (SSRS, PowerBI, etc), Manager'\n 'Architect, DBA (Development Focus - tunes queries, indexes, does deployments), DBA (Production Focus - build & troubleshoot servers, HA/DR), Developer: Business Intelligence (SSRS, PowerBI, etc), Developer: T-SQL, Engineer'\n 'Architect, Data Scientist, DBA (Development Focus - tunes queries, indexes, does deployments), DBA (General - splits time evenly between writing & tuning queries AND building & troubleshooting servers), Developer: Business Intelligence (SSRS, PowerBI, etc), Developer: T-SQL'\n 'Analyst, Data Scientist, DBA (Development Focus - tunes queries, indexes, does deployments), DBA (Production Focus - build & troubleshoot servers, HA/DR), Developer: T-SQL, Manager'\n 'Architect, Data Scientist, Developer: App code (C#, JS, etc), Developer: T-SQL, Manager'\n 'DBA (Production Focus - build & troubleshoot servers, HA/DR), Developer: Business Intelligence (SSRS, PowerBI, etc), Manager'\n 'Data Scientist, DBA (Development Focus - tunes queries, indexes, does deployments), Developer: App code (C#, JS, etc), Developer: T-SQL'\n 'Architect, Data Scientist, DBA (Production Focus - build & troubleshoot servers, HA/DR), DBA (General - splits time evenly between writing & tuning queries AND building & troubleshooting servers), Developer: App code (C#, JS, etc), Developer: T-SQL, Engineer'\n 'Data Scientist, DBA (General - splits time evenly between writing & tuning queries AND building & troubleshooting servers)'\n 'DBA (Production Focus - build & troubleshoot servers, HA/DR), Developer: Business Intelligence (SSRS, PowerBI, etc), Developer: T-SQL, Manager'\n 'Analyst, DBA (Production Focus - build & troubleshoot servers, HA/DR), DBA (General - splits time evenly between writing & tuning queries AND building & troubleshooting servers)'\n 'Data Scientist, DBA (Development Focus - tunes queries, indexes, does deployments), Developer: App code (C#, JS, etc)'\n 'Analyst, Data Scientist, Manager'\n 'Analyst, DBA (Development Focus - tunes queries, indexes, does deployments), DBA (Production Focus - build & troubleshoot servers, HA/DR), Developer: Business Intelligence (SSRS, PowerBI, etc)'\n 'Architect, Data Scientist, DBA (General - splits time evenly between writing & tuning queries AND building & troubleshooting servers), Developer: App code (C#, JS, etc), Developer: Business Intelligence (SSRS, PowerBI, etc), Developer: T-SQL, Engineer'\n 'DBA (Development Focus - tunes queries, indexes, does deployments), DBA (Production Focus - build & troubleshoot servers, HA/DR), Developer: Business Intelligence (SSRS, PowerBI, etc), Developer: T-SQL, Engineer'\n 'Analyst, Architect, Data Scientist, DBA (General - splits time evenly between writing & tuning queries AND building & troubleshooting servers), Developer: Business Intelligence (SSRS, PowerBI, etc)']\nNot Asked                                                                                                                                                                                                                                                                                               4632\nDBA (Development Focus - tunes queries, indexes, does deployments)                                                                                                                                                                                                                                       248\nDeveloper: T-SQL                                                                                                                                                                                                                                                                                         213\nDBA (General - splits time evenly between writing & tuning queries AND building & troubleshooting servers)                                                                                                                                                                                               155\nDeveloper: Business Intelligence (SSRS, PowerBI, etc)                                                                                                                                                                                                                                                    120\n                                                                                                                                                                                                                                                                                                        ... \nData Scientist, Developer: App code (C#, JS, etc), Developer: Business Intelligence (SSRS, PowerBI, etc), Developer: T-SQL                                                                                                                                                                                 1\nAnalyst, Architect, DBA (Production Focus - build & troubleshoot servers, HA/DR), DBA (General - splits time evenly between writing & tuning queries AND building & troubleshooting servers), Developer: Business Intelligence (SSRS, PowerBI, etc), Developer: T-SQL                                      1\nDBA (Development Focus - tunes queries, indexes, does deployments), DBA (General - splits time evenly between writing & tuning queries AND building & troubleshooting servers), Developer: App code (C#, JS, etc), Developer: Business Intelligence (SSRS, PowerBI, etc), Developer: T-SQL, Engineer       1\nAnalyst, Architect, Data Scientist, DBA (Development Focus - tunes queries, indexes, does deployments), Developer: Business Intelligence (SSRS, PowerBI, etc), Engineer, Manager                                                                                                                           1\nAnalyst, Data Scientist, DBA (Development Focus - tunes queries, indexes, does deployments), Developer: App code (C#, JS, etc), Developer: T-SQL, Manager                                                                                                                                                  1\nName: OtherJobDuties, Length: 555, dtype: int64\n"
     ]
    }
   ],
   "source": [
    "print(df1.OtherJobDuties.unique())\n",
    "print(df1.OtherJobDuties.value_counts())"
   ]
  },
  {
   "cell_type": "markdown",
   "id": "rotary-brooks",
   "metadata": {},
   "source": [
    "Comme il y a trop de valeur unique différente pour OtherJobDuties, je  ne peux remplacer les valeurs manquantes par une valeur standard"
   ]
  },
  {
   "cell_type": "markdown",
   "id": "metallic-slave",
   "metadata": {},
   "source": [
    "### Conclusion sur les valeurs manquantes"
   ]
  },
  {
   "cell_type": "markdown",
   "id": "theoretical-context",
   "metadata": {},
   "source": [
    "Je choisis donc de conserver l'ensemble des données dans ma base mais je note un point de vigilance quand j'aurais à utiliser les variables codePostal et OtherJobDuties"
   ]
  },
  {
   "cell_type": "markdown",
   "id": "worldwide-secretary",
   "metadata": {},
   "source": [
    "### Même travail pour la seconde base de données"
   ]
  },
  {
   "cell_type": "markdown",
   "id": "developing-continent",
   "metadata": {},
   "source": [
    "## 3. Traitement des dates"
   ]
  },
  {
   "cell_type": "code",
   "execution_count": 31,
   "id": "abstract-single",
   "metadata": {},
   "outputs": [
    {
     "output_type": "stream",
     "name": "stdout",
     "text": [
      "index                                     int64\nSalaryUSD                               float64\nCountry                                  object\nPostalCode                               object\nEmploymentStatus                         object\nJobTitle                                 object\nManageStaff                              object\nYearsWithThisTypeOfJob                    int64\nHowManyCompanies                         object\nOtherPeopleOnYourTeam                    object\nCompanyEmployeesOverall                  object\nPopulationOfLargestCityWithin20Miles     object\nEmploymentSector                         object\nLookingForAnotherJob                     object\nCareerPlansThisYear                      object\nGender                                   object\nOtherJobDuties                           object\ndtype: object\n"
     ]
    }
   ],
   "source": [
    "print(df1.dtypes)"
   ]
  },
  {
   "cell_type": "markdown",
   "id": "intensive-variable",
   "metadata": {},
   "source": [
    "Aucune de mes colonnes ne correspond à une date, je n'ai donc pas à faire de traitement"
   ]
  },
  {
   "cell_type": "markdown",
   "id": "further-graph",
   "metadata": {},
   "source": [
    "## 4. Traitement des doublons"
   ]
  },
  {
   "cell_type": "code",
   "execution_count": 32,
   "id": "reported-nomination",
   "metadata": {},
   "outputs": [
    {
     "output_type": "stream",
     "name": "stdout",
     "text": [
      "False    8627\ndtype: int64\n"
     ]
    }
   ],
   "source": [
    "print(df1.duplicated().value_counts())"
   ]
  },
  {
   "cell_type": "markdown",
   "id": "anonymous-external",
   "metadata": {},
   "source": [
    "Aucune des colonnes de ma base n'est dupliquée, je vérifie cependant que c'est également le cas sur la colonne index"
   ]
  },
  {
   "cell_type": "code",
   "execution_count": 33,
   "id": "unknown-prompt",
   "metadata": {},
   "outputs": [
    {
     "output_type": "stream",
     "name": "stdout",
     "text": [
      "False    8627\ndtype: int64\n"
     ]
    }
   ],
   "source": [
    "print(df1.duplicated('index').value_counts())"
   ]
  },
  {
   "cell_type": "markdown",
   "id": "patient-twenty",
   "metadata": {},
   "source": [
    "On est bon."
   ]
  },
  {
   "cell_type": "markdown",
   "id": "compact-review",
   "metadata": {},
   "source": [
    "## 5. Consistance des données"
   ]
  },
  {
   "source": [],
   "cell_type": "markdown",
   "metadata": {}
  },
  {
   "cell_type": "code",
   "execution_count": 34,
   "metadata": {},
   "outputs": [
    {
     "output_type": "execute_result",
     "data": {
      "text/plain": [
       "DBA                                                                                                           1514\n",
       "DBA (General - splits time evenly between writing & tuning queries AND building & troubleshooting servers)    1493\n",
       "DBA (Production Focus - build & troubleshoot servers, HA/DR)                                                   968\n",
       "Developer: T-SQL                                                                                               826\n",
       "Architect                                                                                                      660\n",
       "Developer: Business Intelligence (SSRS, PowerBI, etc)                                                          610\n",
       "Developer: App code (C#, JS, etc)                                                                              586\n",
       "Manager                                                                                                        507\n",
       "Analyst                                                                                                        488\n",
       "Engineer                                                                                                       392\n",
       "DBA (Development Focus - tunes queries, indexes, does deployments)                                             374\n",
       "Other                                                                                                          143\n",
       "Data Scientist                                                                                                  55\n",
       "Systems Administrator                                                                                            2\n",
       "Database Specialist                                                                                              1\n",
       "DBA / BI Developer                                                                                               1\n",
       "Consultant                                                                                                       1\n",
       "Principal database engineer                                                                                      1\n",
       "Sr Consultant                                                                                                    1\n",
       "Sales                                                                                                            1\n",
       "Technician                                                                                                       1\n",
       "Analytics consultant                                                                                             1\n",
       "DevOps, Sr Software Engineer DBA                                                                                 1\n",
       "Name: JobTitle, dtype: int64"
      ]
     },
     "metadata": {},
     "execution_count": 34
    }
   ],
   "source": [
    "x = df1[\"JobTitle\"].value_counts()\n",
    "jobs = df1.loc[df1[\"JobTitle\"].isin(x[(x < 5)].index), \"JobTitle\"] = \"Other\"\n",
    "x"
   ]
  },
  {
   "cell_type": "code",
   "execution_count": 41,
   "metadata": {
    "tags": []
   },
   "outputs": [
    {
     "output_type": "execute_result",
     "data": {
      "text/plain": [
       "0                    Male\n",
       "1                    Male\n",
       "2                    Male\n",
       "3                    Male\n",
       "4                    Male\n",
       "              ...        \n",
       "8622    Prefer not to say\n",
       "8623    Prefer not to say\n",
       "8624    Prefer not to say\n",
       "8625    Prefer not to say\n",
       "8626    Prefer not to say\n",
       "Name: Gender, Length: 8627, dtype: object"
      ]
     },
     "metadata": {},
     "execution_count": 41
    }
   ],
   "source": [
    "genders = df1[\"Gender\"]\n",
    "for gender in genders:\n",
    "    if gender not in [\"Male\", \"Female\", 'Non-binary/third gender', 'Prefer not to say']:\n",
    "        genders.replace(to_replace = gender , value = 'Prefer not to say', inplace = True)\n",
    "genders"
   ]
  },
  {
   "cell_type": "code",
   "execution_count": 42,
   "metadata": {},
   "outputs": [
    {
     "output_type": "execute_result",
     "data": {
      "text/plain": [
       "array(['Male', 'Female', 'Non-binary/third gender', 'Prefer not to say'],\n",
       "      dtype=object)"
      ]
     },
     "metadata": {},
     "execution_count": 42
    }
   ],
   "source": [
    "genders.unique()"
   ]
  },
  {
   "source": [
    "toutes les valeurs qui ne correspondait pas au genre (Masculin, Feminin ou Non-binaire) on été remplacé par Prefer not to say"
   ],
   "cell_type": "markdown",
   "metadata": {}
  },
  {
   "source": [],
   "cell_type": "markdown",
   "metadata": {}
  },
  {
   "cell_type": "code",
   "execution_count": 44,
   "metadata": {
    "tags": []
   },
   "outputs": [
    {
     "output_type": "stream",
     "name": "stdout",
     "text": [
      "101.44\n1.0\n57.6\n9000.0\n2000.0\n1631.0\n144.0\n2200.0\n8000.0\n447.0\n120.0\n44.554\n5000.0\n4500.0\n125.0\n100.0\n1556.0\n0.0\n135.0\n150.0\n75.0\n9546.0\n3300.0\n2400.0\n2900.0\n3500.0\n9100.0\n6260.0\n9360.0\n7800.0\n624.8\n112.0\n87.83\n5800.0\n8230.0\n7500.0\n900.0\n58.0\n1600.0\n4000.0\n4200.0\n1967.0\n56.0\n9900.0\n3580.0\n81.0\n6516.5\n130.0\n2246.0\n700.0\n38.736\n126.0\n5214.0\n577.0\n92.27\n300.0\n1100.0\n3600.0\n44.806\n1200.0\n3000.0\n1050.0\n1467.0\n430.0\n7473.0\n8500.0\n8200.0\n545.0\n4118.0\n7650.0\n6200.0\n7515.0\n1250.0\n5500.0\n4420.0\n4423.0\n8400.0\n6700.0\n3900.0\n8300.0\n7968.0\n"
     ]
    }
   ],
   "source": [
    "salaries = df1[\"SalaryUSD\"]\n",
    "for salary in salaries : \n",
    "    if salary < 10000 : \n",
    "        salaries.replace(to_replace = salary , value = 10000 , inplace = True )\n",
    "        print(salary)"
   ]
  },
  {
   "cell_type": "markdown",
   "id": "objective-australian",
   "metadata": {},
   "source": [
    "### Avant de partir je sauvegarde mon travail dans my sql"
   ]
  },
  {
   "cell_type": "code",
   "execution_count": 37,
   "id": "tough-practitioner",
   "metadata": {},
   "outputs": [],
   "source": [
    "save_to_mysql(db_connect=connect,df_to_save=df1,df_name='df1_intermediate')"
   ]
  },
  {
   "cell_type": "code",
   "execution_count": null,
   "id": "charged-yesterday",
   "metadata": {},
   "outputs": [],
   "source": []
  }
 ],
 "metadata": {
  "kernelspec": {
   "display_name": "Python 3",
   "language": "python",
   "name": "python3"
  },
  "language_info": {
   "codemirror_mode": {
    "name": "ipython",
    "version": 3
   },
   "file_extension": ".py",
   "mimetype": "text/x-python",
   "name": "python",
   "nbconvert_exporter": "python",
   "pygments_lexer": "ipython3",
   "version": "3.8.5-final"
  }
 },
 "nbformat": 4,
 "nbformat_minor": 5
}