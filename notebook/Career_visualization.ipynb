{
 "cells": [
  {
   "cell_type": "code",
   "execution_count": 1,
   "id": "starting-preliminary",
   "metadata": {},
   "outputs": [
    {
     "output_type": "error",
     "ename": "ModuleNotFoundError",
     "evalue": "No module named 'src'",
     "traceback": [
      "\u001b[0;31m---------------------------------------------------------------------------\u001b[0m",
      "\u001b[0;31mModuleNotFoundError\u001b[0m                       Traceback (most recent call last)",
      "\u001b[0;32m<ipython-input-1-0b22c083495f>\u001b[0m in \u001b[0;36m<module>\u001b[0;34m\u001b[0m\n\u001b[1;32m      8\u001b[0m \u001b[0;31m#On peut ensuite importer le dossier comme un module\u001b[0m\u001b[0;34m\u001b[0m\u001b[0;34m\u001b[0m\u001b[0;34m\u001b[0m\u001b[0m\n\u001b[1;32m      9\u001b[0m \u001b[0;34m\u001b[0m\u001b[0m\n\u001b[0;32m---> 10\u001b[0;31m \u001b[0;32mimport\u001b[0m \u001b[0msrc\u001b[0m\u001b[0;34m\u001b[0m\u001b[0;34m\u001b[0m\u001b[0m\n\u001b[0m\u001b[1;32m     11\u001b[0m \u001b[0;34m\u001b[0m\u001b[0m\n\u001b[1;32m     12\u001b[0m \u001b[0;31m#Et utiliser les fonctions qu'il contient\u001b[0m\u001b[0;34m\u001b[0m\u001b[0;34m\u001b[0m\u001b[0;34m\u001b[0m\u001b[0m\n",
      "\u001b[0;31mModuleNotFoundError\u001b[0m: No module named 'src'"
     ]
    }
   ],
   "source": [
    "#Pour que python reconnaisse un dossier comme un module il faut ajouter en son sein un fichier __init__.py \n",
    "#et également l'ajouter au PATH\n",
    "\n",
    "import sys\n",
    "sys.path.insert(0, \"/home/apprenant/simplon_project/American_dream/\")\n",
    "\n",
    "\n",
    "#On peut ensuite importer le dossier comme un module\n",
    "\n",
    "from src.d00_utils.mysql_utils import mysql_connect, save_to_mysql\n",
    "\n",
    "#Et utiliser les fonctions qu'il contient\n",
    "#dans l'exemple on a défini la fonction plus_cinq dans le fichier load data \n",
    "# du sous module d01_data( qui contient également un fichier __init__.py)\n",
    "\n",
    "src.d01_data.load_data.plus_cinq(3)"
   ]
  },
  {
   "cell_type": "code",
   "execution_count": null,
   "id": "square-scholar",
   "metadata": {},
   "outputs": [],
   "source": []
  }
 ],
 "metadata": {
  "kernelspec": {
   "display_name": "Python 3",
   "language": "python",
   "name": "python3"
  },
  "language_info": {
   "codemirror_mode": {
    "name": "ipython",
    "version": 3
   },
   "file_extension": ".py",
   "mimetype": "text/x-python",
   "name": "python",
   "nbconvert_exporter": "python",
   "pygments_lexer": "ipython3",
   "version": "3.8.5-final"
  }
 },
 "nbformat": 4,
 "nbformat_minor": 5
}